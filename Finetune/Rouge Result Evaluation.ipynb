{
 "cells": [
  {
   "cell_type": "code",
   "execution_count": 34,
   "id": "e4354378",
   "metadata": {},
   "outputs": [],
   "source": [
    "from datasets import load_metric\n",
    "from evaluate import load\n",
    "import evaluate\n",
    "import pandas as pd\n",
    "from pprint import pprint"
   ]
  },
  {
   "cell_type": "code",
   "execution_count": 35,
   "id": "7b8b58c8",
   "metadata": {},
   "outputs": [
    {
     "data": {
      "text/plain": [
       "str"
      ]
     },
     "execution_count": 35,
     "metadata": {},
     "output_type": "execute_result"
    }
   ],
   "source": [
    "with open('/home/g-ball/Desktop/Projects/THESIS/summaries/GOLD2.txt', encoding='utf-8') as f:\n",
    "    reference = f.read()\n",
    "type(reference)"
   ]
  },
  {
   "cell_type": "code",
   "execution_count": 36,
   "id": "893429f8",
   "metadata": {},
   "outputs": [
    {
     "name": "stdout",
     "output_type": "stream",
     "text": [
      "1148\n"
     ]
    }
   ],
   "source": [
    "word_list = reference.split()\n",
    "\n",
    "number_of_words = len(word_list)\n",
    "\n",
    "print(number_of_words)"
   ]
  },
  {
   "cell_type": "code",
   "execution_count": 37,
   "id": "f14f328d",
   "metadata": {},
   "outputs": [
    {
     "data": {
      "text/plain": [
       "str"
      ]
     },
     "execution_count": 37,
     "metadata": {},
     "output_type": "execute_result"
    }
   ],
   "source": [
    "with open('/home/g-ball/Desktop/Projects/THESIS/summaries/GOLD2.txt', encoding=\"utf-8\") as f:\n",
    "    prediction = f.read()\n",
    "    \n",
    "type(prediction)"
   ]
  },
  {
   "cell_type": "code",
   "execution_count": 38,
   "id": "18ee8743",
   "metadata": {},
   "outputs": [
    {
     "name": "stdout",
     "output_type": "stream",
     "text": [
      "1148\n"
     ]
    }
   ],
   "source": [
    "word_list = prediction.split()\n",
    "\n",
    "number_of_words = len(word_list)\n",
    "\n",
    "print(number_of_words)"
   ]
  },
  {
   "cell_type": "code",
   "execution_count": 39,
   "id": "6bbf9020",
   "metadata": {},
   "outputs": [
    {
     "name": "stdout",
     "output_type": "stream",
     "text": [
      "{'rouge1': AggregateScore(low=Score(precision=1.0, recall=1.0, fmeasure=1.0), mid=Score(precision=1.0, recall=1.0, fmeasure=1.0), high=Score(precision=1.0, recall=1.0, fmeasure=1.0)),\n",
      " 'rouge2': AggregateScore(low=Score(precision=1.0, recall=1.0, fmeasure=1.0), mid=Score(precision=1.0, recall=1.0, fmeasure=1.0), high=Score(precision=1.0, recall=1.0, fmeasure=1.0)),\n",
      " 'rougeL': AggregateScore(low=Score(precision=1.0, recall=1.0, fmeasure=1.0), mid=Score(precision=1.0, recall=1.0, fmeasure=1.0), high=Score(precision=1.0, recall=1.0, fmeasure=1.0)),\n",
      " 'rougeLsum': AggregateScore(low=Score(precision=1.0, recall=1.0, fmeasure=1.0), mid=Score(precision=1.0, recall=1.0, fmeasure=1.0), high=Score(precision=1.0, recall=1.0, fmeasure=1.0))}\n"
     ]
    },
    {
     "data": {
      "text/plain": [
       "dict"
      ]
     },
     "execution_count": 39,
     "metadata": {},
     "output_type": "execute_result"
    }
   ],
   "source": [
    "rouge = evaluate.load('rouge')\n",
    "\n",
    "predictions = [prediction]\n",
    "references = [reference]\n",
    "rouge_types = ['rouge1', 'rouge2', 'rougeL', 'rougeLsum']\n",
    "results = rouge.compute(predictions=predictions, \n",
    "                        references=references, \n",
    "                        rouge_types = rouge_types,\n",
    "                        use_aggregator=True)\n",
    "\n",
    "\n",
    "pprint(results)\n",
    "type(results)"
   ]
  },
  {
   "cell_type": "code",
   "execution_count": 40,
   "id": "a2c064f0",
   "metadata": {},
   "outputs": [],
   "source": [
    "scores = {key: round(value.mid.fmeasure * 100, 1) for key, value in results.items()}\n"
   ]
  },
  {
   "cell_type": "code",
   "execution_count": 41,
   "id": "d54f2584",
   "metadata": {},
   "outputs": [
    {
     "name": "stdout",
     "output_type": "stream",
     "text": [
      "{'rouge1': 100.0, 'rouge2': 100.0, 'rougeL': 100.0, 'rougeLsum': 100.0}\n"
     ]
    }
   ],
   "source": [
    "print(scores)"
   ]
  },
  {
   "cell_type": "code",
   "execution_count": 152,
   "id": "60d9d5a2",
   "metadata": {},
   "outputs": [
    {
     "name": "stdout",
     "output_type": "stream",
     "text": [
      "{'rouge1': 36.4, 'rouge2': 7.8, 'rougeL': 16.6, 'rougeLsum': 26.6}\n"
     ]
    }
   ],
   "source": [
    "#LEDprint(scores)"
   ]
  },
  {
   "cell_type": "code",
   "execution_count": 145,
   "id": "b7f34b4c",
   "metadata": {},
   "outputs": [
    {
     "name": "stdout",
     "output_type": "stream",
     "text": [
      "{'rouge1': 43.9, 'rouge2': 9.6, 'rougeL': 17.4, 'rougeLsum': 31.2}\n"
     ]
    }
   ],
   "source": [
    "#PEGASUSprint(scores)"
   ]
  },
  {
   "cell_type": "code",
   "execution_count": 128,
   "id": "58ae6f83",
   "metadata": {},
   "outputs": [
    {
     "name": "stdout",
     "output_type": "stream",
     "text": [
      "{'rouge1': 53.9, 'rouge2': 12.6, 'rougeL': 18.6, 'rougeLsum': 38.9}\n"
     ]
    }
   ],
   "source": [
    "#T5print(scores)"
   ]
  },
  {
   "cell_type": "code",
   "execution_count": 137,
   "id": "38fcd2d4",
   "metadata": {},
   "outputs": [
    {
     "name": "stdout",
     "output_type": "stream",
     "text": [
      "{'rouge1': 51.8, 'rouge2': 12.5, 'rougeL': 16.8, 'rougeLsum': 36.4}\n"
     ]
    }
   ],
   "source": [
    "#BARTprint(scores)"
   ]
  },
  {
   "cell_type": "code",
   "execution_count": 157,
   "id": "84a1f3c5",
   "metadata": {},
   "outputs": [
    {
     "name": "stdout",
     "output_type": "stream",
     "text": [
      "{'rouge1': 52.6, 'rouge2': 15.0, 'rougeL': 18.8, 'rougeLsum': 38.6}\n"
     ]
    }
   ],
   "source": [
    "#preBARTprint(scores)"
   ]
  }
 ],
 "metadata": {
  "kernelspec": {
   "display_name": "Python 3 (ipykernel)",
   "language": "python",
   "name": "python3"
  },
  "language_info": {
   "codemirror_mode": {
    "name": "ipython",
    "version": 3
   },
   "file_extension": ".py",
   "mimetype": "text/x-python",
   "name": "python",
   "nbconvert_exporter": "python",
   "pygments_lexer": "ipython3",
   "version": "3.9.1"
  }
 },
 "nbformat": 4,
 "nbformat_minor": 5
}
